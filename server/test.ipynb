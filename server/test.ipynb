{
 "cells": [
  {
   "cell_type": "code",
   "execution_count": null,
   "metadata": {},
   "outputs": [
    {
     "ename": "",
     "evalue": "",
     "output_type": "error",
     "traceback": [
      "\u001b[1;31mThe kernel failed to start as the Python Environment 'Python 3.12.4' is no longer available. Consider selecting another kernel or refreshing the list of Python Environments."
     ]
    }
   ],
   "source": [
    "import os\n",
    "from openai import OpenAI\n",
    "from dotenv import load_dotenv\n",
    "# from ngramsapi import get_word_trends, plot_ngrams\n",
    "import json\n",
    "from typing import List, Dict, Union\n",
    "load_dotenv()\n",
    "client = OpenAI(api_key=os.getenv(\"OPENAI_API_KEY\"))"
   ]
  },
  {
   "cell_type": "code",
   "execution_count": 67,
   "metadata": {},
   "outputs": [],
   "source": [
    "# from os import path\n",
    "import requests \n",
    "import urllib \n",
    "import pandas as pd\n",
    "import matplotlib.pyplot as plt\n",
    "\n",
    "default_params = {\n",
    "    'year_start': 1674,\n",
    "    'year_end': 1912,\n",
    "    'corpus': \"en-GB-2019\",\n",
    "    'smoothing': 3,\n",
    "    'case_insensitive': False,\n",
    "}\n",
    "def get_word_trends(query, **kwargs): \n",
    "    params = default_params.copy()  # Copy the default parameters\n",
    "    params.update(kwargs)  # Update with any provided parameters\n",
    "    \n",
    "    # print(params)\n",
    "    # Extract individual parameters\n",
    "    year_start = params['year_start']\n",
    "    year_end = params['year_end']\n",
    "    corpus = params['corpus']\n",
    "    smoothing = params['smoothing']\n",
    "    case_insensitive = params['case_insensitive']\n",
    "    query = urllib.parse.quote(query) \n",
    "    \n",
    "    \n",
    "    url = f'https://books.google.com/ngrams/json?content={query}' \\\n",
    "      f'&year_start={year_start}' \\\n",
    "      f'&year_end={year_end}' \\\n",
    "      f'&corpus={corpus}' \\\n",
    "      f'&smoothing={smoothing}' \\\n",
    "      f'{f'&case_insensitive={case_insensitive}' if case_insensitive else \"\"}'\n",
    "\n",
    "    print(url)\n",
    "\n",
    "    response = requests.get(url) \n",
    "    output = response.json() \n",
    "    return_data = [] \n",
    "    years = list(range(year_start, year_end + 1))\n",
    "    df = pd.DataFrame({'year': years})\n",
    "  \n",
    "    if len(output) == 0: \n",
    "        return \"No data available for this Ngram.\"\n",
    "    for num in range(len(output)): \n",
    "        ngram = output[num]['ngram']\n",
    "        timeseries = output[num]['timeseries']\n",
    "        df[ngram] = timeseries\n",
    "        return_data.append((ngram, timeseries))\n",
    "    \n",
    "    # df.to_csv(path.join(path.dirname(__file__), 'ngrams_statistics.csv'), index=False)\n",
    "    return df.to_json()\n",
    "  \n",
    "def plot_ngrams(df):\n",
    "    plt.figure(figsize=(10, 6))\n",
    "    for column in df.columns[1:]:\n",
    "        plt.plot(df['year'], df[column], label=column)\n",
    "    \n",
    "    plt.xlabel('Year')\n",
    "    plt.ylabel('Frequency')\n",
    "    plt.title('Ngram Frequencies Over Time')\n",
    "    plt.legend()\n",
    "    plt.grid(True)\n",
    "    plt.show()"
   ]
  },
  {
   "cell_type": "code",
   "execution_count": 20,
   "metadata": {},
   "outputs": [],
   "source": [
    "tools_list = [{\n",
    "  \"type\": \"function\",\n",
    "  \"function\": {\n",
    "    \"name\": \"get_word_trends\",\n",
    "    \"description\": \"Get the trends of a word over time using the google ngrams api\",\n",
    "    \"parameters\": {\n",
    "      \"type\": \"object\",\n",
    "      \"properties\": {\n",
    "        \"query\": {\n",
    "          \"type\": \"string\",\n",
    "          \"description\": \"The word to get the trends for\"\n",
    "        },\n",
    "        \"year_start\": {\n",
    "          \"type\": \"integer\",\n",
    "          \"description\": \"The start year for the trends\"\n",
    "        },\n",
    "        \"year_end\": {\n",
    "          \"type\": \"integer\",\n",
    "          \"description\": \"The end year for the trends\"\n",
    "        },\n",
    "        \"corpus\": {\n",
    "          \"type\": \"string\",\n",
    "          \"description\": \"The corpus to use for the trends\"\n",
    "        },\n",
    "        \"smoothing\": {\n",
    "          \"type\": \"integer\",\n",
    "          \"description\": \"The smoothing factor for the trends\"\n",
    "        },\n",
    "        \"case_insensitive\": {\n",
    "          \"type\": \"boolean\",\n",
    "          \"description\": \"Flag to indicate if the search should be case insensitive\"\n",
    "        },\n",
    "      },\n",
    "      \"required\": [\"query\"]\n",
    "    }\n",
    "    \n",
    "  }\n",
    "}]"
   ]
  },
  {
   "cell_type": "code",
   "execution_count": 37,
   "metadata": {},
   "outputs": [],
   "source": [
    "assistant = client.beta.assistants.retrieve(assistant_id=os.getenv(\"OPENAI_ASSISTANT_ID\"))"
   ]
  },
  {
   "cell_type": "code",
   "execution_count": 38,
   "metadata": {},
   "outputs": [],
   "source": [
    "class thread:\n",
    "  id = \"\"\n"
   ]
  },
  {
   "cell_type": "code",
   "execution_count": 68,
   "metadata": {},
   "outputs": [],
   "source": [
    "message = client.beta.threads.messages.create(\n",
    "    thread_id=thread.id,\n",
    "    role=\"user\",\n",
    "    content=\"What are the trends of the word old bailey between the year 1850 to 1860\"\n",
    ")\n"
   ]
  },
  {
   "cell_type": "code",
   "execution_count": 69,
   "metadata": {},
   "outputs": [],
   "source": [
    "run = client.beta.threads.runs.create_and_poll(\n",
    "  thread_id=thread.id,\n",
    "  assistant_id=assistant.id,\n",
    "  instructions=\"Use the function tool for this query.\"\n",
    ")\n",
    "# run"
   ]
  },
  {
   "cell_type": "code",
   "execution_count": 70,
   "metadata": {},
   "outputs": [],
   "source": [
    "tool = run.required_action.submit_tool_outputs.tool_calls[0].function.arguments"
   ]
  },
  {
   "cell_type": "code",
   "execution_count": 72,
   "metadata": {},
   "outputs": [
    {
     "name": "stdout",
     "output_type": "stream",
     "text": [
      "requires_action\n"
     ]
    }
   ],
   "source": [
    "if run.status == 'completed':\n",
    "  messages = client.beta.threads.messages.list(\n",
    "    thread_id=thread.id\n",
    "  )\n",
    "  print(messages)\n",
    "else:\n",
    "  print(run.status)"
   ]
  },
  {
   "cell_type": "code",
   "execution_count": 59,
   "metadata": {},
   "outputs": [],
   "source": [
    "def args_to_dict(tool: str) -> Dict[str, str]:\n",
    "  return json.loads(tool)"
   ]
  },
  {
   "cell_type": "code",
   "execution_count": 44,
   "metadata": {},
   "outputs": [],
   "source": [
    "# tool = run.required_action.submit_tool_outputs.tool_calls[0].function.arguments\n",
    "# args = args_to_dict(tool)\n",
    "# print(args)\n",
    "# trends = get_word_trends(**args)\n",
    "# plot_ngrams(trends)\n",
    "# get_word_trends"
   ]
  },
  {
   "cell_type": "code",
   "execution_count": 73,
   "metadata": {},
   "outputs": [
    {
     "name": "stdout",
     "output_type": "stream",
     "text": [
      "https://books.google.com/ngrams/json?content=old%20bailey&year_start=1850&year_end=1860&corpus=en-GB-2019&smoothing=3\n",
      "{\"year\":{\"0\":1850,\"1\":1851,\"2\":1852,\"3\":1853,\"4\":1854,\"5\":1855,\"6\":1856,\"7\":1857,\"8\":1858,\"9\":1859,\"10\":1860},\"old bailey\":{\"0\":0.0000000002,\"1\":0.0000000002,\"2\":0.0000000001,\"3\":0.0000000001,\"4\":0.0000000001,\"5\":0.0000000001,\"6\":0.0000000001,\"7\":0.0000000001,\"8\":0.0000000001,\"9\":0.0000000001,\"10\":0.0000000002}}\n",
      "Tool outputs submitted successfully.\n",
      "SyncCursorPage[Message](data=[Message(id='msg_KYV0vyXpjnHs7LcTqIxZpif0', assistant_id='asst_NPJ7zjXnm6ShHHw5RuCldZDF', attachments=[], completed_at=None, content=[TextContentBlock(text=Text(annotations=[], value='The trends for the word \"Old Bailey\" between the years 1850 to 1860 are as follows:\\n\\n- 1850: 0.0000000002\\n- 1851: 0.0000000002\\n- 1852: 0.0000000001\\n- 1853: 0.0000000001\\n- 1854: 0.0000000001\\n- 1855: 0.0000000001\\n- 1856: 0.0000000001\\n- 1857: 0.0000000001\\n- 1858: 0.0000000001\\n- 1859: 0.0000000001\\n- 1860: 0.0000000002\\n\\nThese values represent the frequency of occurrences of the word \"Old Bailey\" during each year within the specified time frame. If you have any more questions or need further information, feel free to ask!'), type='text')], created_at=1720738884, incomplete_at=None, incomplete_details=None, metadata={}, object='thread.message', role='assistant', run_id='run_7tVMCahyGfyMiZlIwQA2gzUt', status=None, thread_id='thread_lLcfOT6ZpOPYZpAP8WKWGiI1'), Message(id='msg_xOM2UJoMQGQh4XM0dkcBLRwo', assistant_id=None, attachments=[], completed_at=None, content=[TextContentBlock(text=Text(annotations=[], value='What are the trends of the word old bailey between the year 1850 to 1860'), type='text')], created_at=1720738875, incomplete_at=None, incomplete_details=None, metadata={}, object='thread.message', role='user', run_id=None, status=None, thread_id='thread_lLcfOT6ZpOPYZpAP8WKWGiI1'), Message(id='msg_exELtVO6CLeBB10INCEDV4PI', assistant_id='asst_NPJ7zjXnm6ShHHw5RuCldZDF', attachments=[], completed_at=None, content=[TextContentBlock(text=Text(annotations=[], value='The trends for the word \"Old Bailey\" between the years 1850 to 1860 are as follows:\\n\\n- 1850: 0.0000000002\\n- 1851: 0.0000000002\\n- 1852: 0.0000000001\\n- 1853: 0.0000000001\\n- 1854: 0.0000000001\\n- 1855: 0.0000000001\\n- 1856: 0.0000000001\\n- 1857: 0.0000000001\\n- 1858: 0.0000000001\\n- 1859: 0.0000000001\\n- 1860: 0.0000000002\\n\\nThese values represent the frequency of occurrences of the word \"Old Bailey\" during each year within the specified time frame. If you have any more questions or need further information, feel free to ask!'), type='text')], created_at=1720738856, incomplete_at=None, incomplete_details=None, metadata={}, object='thread.message', role='assistant', run_id='run_bOn27AUHRZe7mUUgwFMPqAUO', status=None, thread_id='thread_lLcfOT6ZpOPYZpAP8WKWGiI1'), Message(id='msg_8ak87GCGDv3kxvHRxpHQaqiY', assistant_id=None, attachments=[], completed_at=None, content=[TextContentBlock(text=Text(annotations=[], value='What are the trends of the word old bailey between the year 1850 to 1860'), type='text')], created_at=1720738847, incomplete_at=None, incomplete_details=None, metadata={}, object='thread.message', role='user', run_id=None, status=None, thread_id='thread_lLcfOT6ZpOPYZpAP8WKWGiI1'), Message(id='msg_VmliZGMBHyWVMpCTnRFOOXJ6', assistant_id='asst_NPJ7zjXnm6ShHHw5RuCldZDF', attachments=[], completed_at=None, content=[TextContentBlock(text=Text(annotations=[], value='The trends for the word \"Old Bailey\" between the years 1850 to 1860 are as follows:\\n\\n- 1850: 0.0000000004\\n- 1851: 0.0\\n- 1852: 0.0\\n- 1853: 0.0\\n- 1854: 0.0\\n- 1855: 0.0\\n- 1856: 0.0\\n- 1857: 0.0000000003\\n- 1858: 0.0\\n- 1859: 0.0\\n- 1860: 0.0\\n\\nThese values represent the frequency of occurrences of the word \"Old Bailey\" during each year within the specified time frame. If you have any more questions or need further information, feel free to ask!'), type='text')], created_at=1720738810, incomplete_at=None, incomplete_details=None, metadata={}, object='thread.message', role='assistant', run_id='run_SXvtAmTx3JVflb9FOYt6Vuph', status=None, thread_id='thread_lLcfOT6ZpOPYZpAP8WKWGiI1'), Message(id='msg_ik9nohlbvEUYPvAxa4f5ZQr9', assistant_id=None, attachments=[], completed_at=None, content=[TextContentBlock(text=Text(annotations=[], value='What are the trends of the word old bailey between the year 1850 to 1860'), type='text')], created_at=1720738796, incomplete_at=None, incomplete_details=None, metadata={}, object='thread.message', role='user', run_id=None, status=None, thread_id='thread_lLcfOT6ZpOPYZpAP8WKWGiI1'), Message(id='msg_CVkWhh5PbU7gQPBA4KNJE5YV', assistant_id='asst_NPJ7zjXnm6ShHHw5RuCldZDF', attachments=[], completed_at=None, content=[TextContentBlock(text=Text(annotations=[], value='The trends for the word \"Old Bailey\" between the years 1850 to 1860 are as follows:\\n\\n- 1850: 0.0000000004\\n- 1851: 0.0\\n- 1852: 0.0\\n- 1853: 0.0\\n- 1854: 0.0\\n- 1855: 0.0\\n- 1856: 0.0\\n- 1857: 0.0000000003\\n- 1858: 0.0\\n- 1859: 0.0\\n- 1860: 0.0\\n\\nThese values represent the frequency of occurrences of the word \"Old Bailey\" during each year within the specified time frame. If you need further analysis or have any more questions, feel free to ask!'), type='text')], created_at=1720738524, incomplete_at=None, incomplete_details=None, metadata={}, object='thread.message', role='assistant', run_id='run_uWkIQgLeNvGbTRI746jitewT', status=None, thread_id='thread_lLcfOT6ZpOPYZpAP8WKWGiI1'), Message(id='msg_UC9sJn8VBzKDvqEVkIIjPIRO', assistant_id=None, attachments=[], completed_at=None, content=[TextContentBlock(text=Text(annotations=[], value='What are the trends of the word old bailey between the year 1850 to 1860'), type='text')], created_at=1720738513, incomplete_at=None, incomplete_details=None, metadata={}, object='thread.message', role='user', run_id=None, status=None, thread_id='thread_lLcfOT6ZpOPYZpAP8WKWGiI1'), Message(id='msg_CuxzSe7ekCW41BXpgJRP7BH8', assistant_id='asst_NPJ7zjXnm6ShHHw5RuCldZDF', attachments=[], completed_at=None, content=[TextContentBlock(text=Text(annotations=[], value='The trends for the word \"Old Bailey\" between the years 1850 to 1860 are as follows:\\n\\n- 1850: 1e-10\\n- 1851: 1e-10\\n- 1852: 1e-10\\n- 1853: 1e-10\\n- 1854: 0.0\\n- 1855: 0.0\\n- 1856: 0.0\\n- 1857: 0.0\\n- 1858: 1e-10\\n- 1859: 1e-10\\n- 1860: 1e-10\\n\\nThese values represent the frequency of occurrences of the word \"Old Bailey\" during each year within the specified time frame.'), type='text')], created_at=1720738468, incomplete_at=None, incomplete_details=None, metadata={}, object='thread.message', role='assistant', run_id='run_HTqgshnsw3zvfPGUFUSs2i4j', status=None, thread_id='thread_lLcfOT6ZpOPYZpAP8WKWGiI1'), Message(id='msg_5935leExGZyBdKaGS2EcaW5r', assistant_id=None, attachments=[], completed_at=None, content=[TextContentBlock(text=Text(annotations=[], value='What are the trends of the word old bailey between the year 1850 to 1860'), type='text')], created_at=1720738456, incomplete_at=None, incomplete_details=None, metadata={}, object='thread.message', role='user', run_id=None, status=None, thread_id='thread_lLcfOT6ZpOPYZpAP8WKWGiI1'), Message(id='msg_cx1EXP5sb8bLgAeYZ7X5Mszy', assistant_id='asst_NPJ7zjXnm6ShHHw5RuCldZDF', attachments=[], completed_at=None, content=[ImageFileContentBlock(image_file=ImageFile(file_id='file-GFWX3F3vSS6NbNFqfDaGmtrd', detail=None), type='image_file'), TextContentBlock(text=Text(annotations=[], value='Here is a graph showing the trends of the word \"Old Bailey\" between the years 1850 to 1860. The graph illustrates the frequency of occurrences of the word during each year within the specified time frame. If you need any more analysis or have further questions, feel free to ask!'), type='text')], created_at=1720738385, incomplete_at=None, incomplete_details=None, metadata={}, object='thread.message', role='assistant', run_id='run_b0pMECuO5iJax3tISZBl1I6h', status=None, thread_id='thread_lLcfOT6ZpOPYZpAP8WKWGiI1'), Message(id='msg_3pzsNwrIQl7lnncWqPAx0MhB', assistant_id=None, attachments=[], completed_at=None, content=[TextContentBlock(text=Text(annotations=[], value='draw a graph for this\\n'), type='text')], created_at=1720738371, incomplete_at=None, incomplete_details=None, metadata={}, object='thread.message', role='user', run_id=None, status=None, thread_id='thread_lLcfOT6ZpOPYZpAP8WKWGiI1'), Message(id='msg_dlLFei5dpkFpdlpvUAc1EUbH', assistant_id='asst_NPJ7zjXnm6ShHHw5RuCldZDF', attachments=[], completed_at=None, content=[TextContentBlock(text=Text(annotations=[], value='The trends for the word \"Old Bailey\" between the years 1850 to 1860 are as follows:\\n\\n- 1850: 0.0000000001\\n- 1851: 0.0000000001\\n- 1852: 0.0000000001\\n- 1853: 0.0000000001\\n- 1854: 0.0\\n- 1855: 0.0\\n- 1856: 0.0\\n- 1857: 0.0\\n- 1858: 0.0000000001\\n- 1859: 0.0000000001\\n- 1860: 0.0000000001\\n\\nThese values represent the frequency of occurrences of the word \"Old Bailey\" during each year within the specified time frame. If you have any more questions or need further information, feel free to ask!'), type='text')], created_at=1720738346, incomplete_at=None, incomplete_details=None, metadata={}, object='thread.message', role='assistant', run_id='run_itOrGVLGL5OXPUQ0hK0kdd1K', status=None, thread_id='thread_lLcfOT6ZpOPYZpAP8WKWGiI1'), Message(id='msg_HjEcLGcvCPNZBCfof2tXpZC1', assistant_id=None, attachments=[], completed_at=None, content=[TextContentBlock(text=Text(annotations=[], value='What are the trends of the word old bailey between the yeat 1850 to 1860'), type='text')], created_at=1720738105, incomplete_at=None, incomplete_details=None, metadata={}, object='thread.message', role='user', run_id=None, status=None, thread_id='thread_lLcfOT6ZpOPYZpAP8WKWGiI1'), Message(id='msg_GxaqjQY5iPdEwa6Ea12eIp0f', assistant_id='asst_NPJ7zjXnm6ShHHw5RuCldZDF', attachments=[], completed_at=None, content=[TextContentBlock(text=Text(annotations=[], value='The trends for the word \"Old Bailey\" between the years 1850 to 1860 have been successfully retrieved. The value for these trends is 57. If you have any more questions or need further assistance, feel free to ask!'), type='text')], created_at=1720738097, incomplete_at=None, incomplete_details=None, metadata={}, object='thread.message', role='assistant', run_id='run_GK6NQQGAhvsif4MOqNASfiIx', status=None, thread_id='thread_lLcfOT6ZpOPYZpAP8WKWGiI1'), Message(id='msg_8dR7Okil4bB2tg0urz1OeOYc', assistant_id='asst_NPJ7zjXnm6ShHHw5RuCldZDF', attachments=[], completed_at=None, content=[TextContentBlock(text=Text(annotations=[], value='It seems there was an issue retrieving the trends for the word \"Old Bailey\" between the years 1850 to 1860. Let me try to fetch the data again for you.'), type='text')], created_at=1720738085, incomplete_at=None, incomplete_details=None, metadata={}, object='thread.message', role='assistant', run_id='run_GK6NQQGAhvsif4MOqNASfiIx', status=None, thread_id='thread_lLcfOT6ZpOPYZpAP8WKWGiI1'), Message(id='msg_zTcJUKPtqeCXJg5G16JSOtgb', assistant_id=None, attachments=[], completed_at=None, content=[TextContentBlock(text=Text(annotations=[], value='What are the trends of the word old bailey between the yeat 1850 to 1860'), type='text')], created_at=1720737798, incomplete_at=None, incomplete_details=None, metadata={}, object='thread.message', role='user', run_id=None, status=None, thread_id='thread_lLcfOT6ZpOPYZpAP8WKWGiI1'), Message(id='msg_NdAPOOeNEeanekdOXQ0pNvFJ', assistant_id=None, attachments=[], completed_at=None, content=[TextContentBlock(text=Text(annotations=[], value='What are the trends of the word old bailey between the yeat 1850 to 1860'), type='text')], created_at=1720730249, incomplete_at=None, incomplete_details=None, metadata={}, object='thread.message', role='user', run_id=None, status=None, thread_id='thread_lLcfOT6ZpOPYZpAP8WKWGiI1'), Message(id='msg_umTcK6OYQQ6ES48Ris5Tmnuh', assistant_id='asst_NPJ7zjXnm6ShHHw5RuCldZDF', attachments=[], completed_at=None, content=[TextContentBlock(text=Text(annotations=[], value='The trends for the word \"Old Bailey\" between the years 1850 to 1860 show a value of 57. This value represents the frequency of occurrences of the word during that time period. If you need more detailed information or analysis, feel free to ask!'), type='text')], created_at=1720729810, incomplete_at=None, incomplete_details=None, metadata={}, object='thread.message', role='assistant', run_id='run_T83QSf3Gy638vYPjR8TTgz1W', status=None, thread_id='thread_lLcfOT6ZpOPYZpAP8WKWGiI1'), Message(id='msg_fVYQIMgTnFziDwajmb3KZRwQ', assistant_id=None, attachments=[], completed_at=None, content=[TextContentBlock(text=Text(annotations=[], value='What are the trends of the word old bailey between the yeat 1850 to 1860'), type='text')], created_at=1720729747, incomplete_at=None, incomplete_details=None, metadata={}, object='thread.message', role='user', run_id=None, status=None, thread_id='thread_lLcfOT6ZpOPYZpAP8WKWGiI1')], object='list', first_id='msg_KYV0vyXpjnHs7LcTqIxZpif0', last_id='msg_fVYQIMgTnFziDwajmb3KZRwQ', has_more=True)\n"
     ]
    }
   ],
   "source": [
    "tool_outputs = []\n",
    " \n",
    "for tool in run.required_action.submit_tool_outputs.tool_calls:\n",
    "  args = args_to_dict(tool.function.arguments)\n",
    "  res = get_word_trends(**args)\n",
    "  print(res)\n",
    "  if tool.function.name == \"get_word_trends\":\n",
    "    tool_outputs.append({\n",
    "      \"tool_call_id\": tool.id,\n",
    "      \"output\": res\n",
    "    })\n",
    " \n",
    "if tool_outputs:\n",
    "  try:\n",
    "    run = client.beta.threads.runs.submit_tool_outputs_and_poll(\n",
    "      thread_id=thread.id,\n",
    "      run_id=run.id,\n",
    "      tool_outputs=tool_outputs\n",
    "    )\n",
    "    print(\"Tool outputs submitted successfully.\")\n",
    "  except Exception as e:\n",
    "    print(\"Failed to submit tool outputs:\", e)\n",
    "else:\n",
    "  print(\"No tool outputs to submit.\")\n",
    " \n",
    "if run.status == 'completed':\n",
    "  messages = client.beta.threads.messages.list(\n",
    "    thread_id=thread.id\n",
    "  )\n",
    "  print(messages)\n",
    "else:\n",
    "  print(run.status)"
   ]
  }
 ],
 "metadata": {
  "kernelspec": {
   "display_name": ".venv",
   "language": "python",
   "name": "python3"
  },
  "language_info": {
   "codemirror_mode": {
    "name": "ipython",
    "version": 3
   },
   "file_extension": ".py",
   "mimetype": "text/x-python",
   "name": "python",
   "nbconvert_exporter": "python",
   "pygments_lexer": "ipython3",
   "version": "3.12.4"
  }
 },
 "nbformat": 4,
 "nbformat_minor": 2
}
